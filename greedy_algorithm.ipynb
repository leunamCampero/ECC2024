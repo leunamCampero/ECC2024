{
 "cells": [
  {
   "cell_type": "code",
   "execution_count": null,
   "metadata": {},
   "outputs": [],
   "source": [
    "import geopandas as gpd\n",
    "import matplotlib.pyplot as plt\n",
    "import momepy\n",
    "import networkx as nx\n",
    "from contextily import add_basemap\n",
    "from libpysal import weights\n",
    "from shapely.geometry import LineString\n",
    "import pandas as pd\n",
    "import numpy as np\n",
    "from matplotlib import cm\n",
    "from matplotlib.colors import ListedColormap,LinearSegmentedColormap\n",
    "import matplotlib as mpl\n",
    "import os\n",
    "from itertools import combinations\n",
    "from scipy.sparse import csr_matrix\n",
    "from scipy import linalg\n",
    "from closeness_library import closeness_function\n",
    "from degree_library import degree_function\n",
    "from diameter_library import diameter_function"
   ]
  }
 ],
 "metadata": {
  "language_info": {
   "name": "python"
  }
 },
 "nbformat": 4,
 "nbformat_minor": 2
}
