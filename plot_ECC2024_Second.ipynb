{
 "cells": [
  {
   "cell_type": "code",
   "execution_count": 1,
   "metadata": {},
   "outputs": [
    {
     "ename": "ModuleNotFoundError",
     "evalue": "No module named 'closeness_library'",
     "output_type": "error",
     "traceback": [
      "\u001b[1;31m---------------------------------------------------------------------------\u001b[0m",
      "\u001b[1;31mModuleNotFoundError\u001b[0m                       Traceback (most recent call last)",
      "\u001b[1;32mUntitled-1.ipynb Cell 1\u001b[0m line \u001b[0;36m1\n\u001b[0;32m     <a href='vscode-notebook-cell:Untitled-1.ipynb?jupyter-notebook#W0sdW50aXRsZWQ%3D?line=14'>15</a>\u001b[0m \u001b[39mfrom\u001b[39;00m \u001b[39mscipy\u001b[39;00m\u001b[39m.\u001b[39;00m\u001b[39msparse\u001b[39;00m \u001b[39mimport\u001b[39;00m csr_matrix\n\u001b[0;32m     <a href='vscode-notebook-cell:Untitled-1.ipynb?jupyter-notebook#W0sdW50aXRsZWQ%3D?line=15'>16</a>\u001b[0m \u001b[39mfrom\u001b[39;00m \u001b[39mscipy\u001b[39;00m \u001b[39mimport\u001b[39;00m linalg\n\u001b[1;32m---> <a href='vscode-notebook-cell:Untitled-1.ipynb?jupyter-notebook#W0sdW50aXRsZWQ%3D?line=16'>17</a>\u001b[0m \u001b[39mfrom\u001b[39;00m \u001b[39mcloseness_library\u001b[39;00m \u001b[39mimport\u001b[39;00m closeness_function\n\u001b[0;32m     <a href='vscode-notebook-cell:Untitled-1.ipynb?jupyter-notebook#W0sdW50aXRsZWQ%3D?line=17'>18</a>\u001b[0m \u001b[39mfrom\u001b[39;00m \u001b[39mdegree_library\u001b[39;00m \u001b[39mimport\u001b[39;00m degree_function\n\u001b[0;32m     <a href='vscode-notebook-cell:Untitled-1.ipynb?jupyter-notebook#W0sdW50aXRsZWQ%3D?line=18'>19</a>\u001b[0m \u001b[39mfrom\u001b[39;00m \u001b[39mdiameter_library\u001b[39;00m \u001b[39mimport\u001b[39;00m diameter_function\n",
      "\u001b[1;31mModuleNotFoundError\u001b[0m: No module named 'closeness_library'"
     ]
    }
   ],
   "source": [
    "import geopandas as gpd\n",
    "import matplotlib.pyplot as plt\n",
    "import momepy\n",
    "import networkx as nx\n",
    "from contextily import add_basemap\n",
    "from libpysal import weights\n",
    "from shapely.geometry import LineString\n",
    "import pandas as pd\n",
    "import numpy as np\n",
    "from matplotlib import cm\n",
    "from matplotlib.colors import ListedColormap,LinearSegmentedColormap\n",
    "import matplotlib as mpl\n",
    "import os\n",
    "from itertools import combinations\n",
    "from scipy.sparse import csr_matrix\n",
    "from scipy import linalg\n",
    "from closeness_library import closeness_function\n",
    "from degree_library import degree_function\n",
    "from diameter_library import diameter_function"
   ]
  },
  {
   "cell_type": "code",
   "execution_count": null,
   "metadata": {},
   "outputs": [],
   "source": [
    "bikes = gpd.read_file(r'C:\\\\Users\\\\camperom\\\\safety-of-bike-networks\\\\Code\\\\OSM_extract\\\\GovermentData\\\\velo_mobilites_m.geojson')\n",
    "bikes = momepy.extend_lines(bikes, 0.00001)\n",
    "bikes.geometry = momepy.close_gaps(bikes, 0.00001)\n",
    "df1 = pd.DataFrame(bikes)\n",
    "list(bikes['geometry'][0].coords)\n",
    "#bikes.plot(figsize=(10, 10)).set_axis_off()\n",
    "#bikes = momepy.extend_lines(bikes, 0.001)\n",
    "#bikes_e = momepy.extend_lines(bikes, 0.0000)\n",
    "#bikes_extended.plot(figsize=(10, 10)).set_axis_off()\n",
    "#bikes_e.geometry = momepy.close_gaps(bikes_e, 0.000)\n",
    "#bikes_e = momepy.remove_false_nodes(bikes)\n",
    "#bikes = momepy.extend_lines(bikes, 1)\n",
    "def coords(geom):\n",
    "    return list(geom.coords)\n",
    "coords = bikes.apply(lambda row: coords(row.geometry), axis=1)\n",
    "coordn = coords.to_numpy()\n",
    "pandadata = pd.DataFrame(bikes)\n",
    "numpydata = pandadata.to_numpy()\n",
    "final_points = []\n",
    "G = nx.Graph()\n",
    "c = 0\n",
    "dw = {}\n",
    "for i in coordn:\n",
    "    if i != []:\n",
    "        final_points.append(i[0])\n",
    "        final_points.append(i[len(i)-1])\n",
    "        for j in range(len(i)-1):\n",
    "            if (numpydata[c][4] == 'chronovelo'):\n",
    "                G.add_edge(i[j],i[j+1], weight = 4)\n",
    "                dw[(i[j],i[j+1])] = 4\n",
    "                dw[(i[j + 1], i[j])] = 4\n",
    "            if (numpydata[c][4] == 'veloseparatif'):\n",
    "                G.add_edge(i[j],i[j+1], weight = 3)\n",
    "                dw[(i[j], i[j + 1])] = 3\n",
    "                dw[(i[j + 1], i[j])] = 3\n",
    "            if (numpydata[c][4] == 'veloconseille'):\n",
    "                G.add_edge(i[j],i[j+1], weight = 2)\n",
    "                dw[(i[j], i[j + 1])] = 2\n",
    "                dw[(i[j + 1], i[j])] = 2\n",
    "            if (numpydata[c][4] == 'velodifficile'):\n",
    "                G.add_edge(i[j],i[j+1], weight = 1)\n",
    "                dw[(i[j], i[j + 1])] = 1\n",
    "                dw[(i[j + 1], i[j])] = 1\n",
    "        c = c + 1\n",
    "# dw = duplicate_d(dw)\n",
    "for i in list(G.nodes):\n",
    "    nh = [n for n in G.neighbors(i)]\n",
    "    if ((len(nh) == 2) and (i not in final_points)):\n",
    "        G.add_edge(nh[0], nh[1], weight = dw[(i,nh[0])])\n",
    "        G.remove_node(i)\n",
    "for e in list(G.edges):\n",
    "    if (e[0] == e[1]):\n",
    "        G.remove_edge(*e)\n",
    "pos = {n: [n[0], n[1]] for n in list(G.nodes)}"
   ]
  }
 ],
 "metadata": {
  "kernelspec": {
   "display_name": "Bikes",
   "language": "python",
   "name": "python3"
  },
  "language_info": {
   "codemirror_mode": {
    "name": "ipython",
    "version": 3
   },
   "file_extension": ".py",
   "mimetype": "text/x-python",
   "name": "python",
   "nbconvert_exporter": "python",
   "pygments_lexer": "ipython3",
   "version": "3.8.16"
  }
 },
 "nbformat": 4,
 "nbformat_minor": 2
}
